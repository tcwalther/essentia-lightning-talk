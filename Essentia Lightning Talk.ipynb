{
 "cells": [
  {
   "cell_type": "code",
   "execution_count": 1,
   "metadata": {
    "collapsed": true
   },
   "outputs": [],
   "source": [
    "%matplotlib inline"
   ]
  },
  {
   "cell_type": "code",
   "execution_count": 2,
   "metadata": {
    "collapsed": true
   },
   "outputs": [],
   "source": [
    "from __future__ import division\n",
    "import essentia.standard as ess\n",
    "import numpy as np\n",
    "import matplotlib.pyplot as plt"
   ]
  },
  {
   "cell_type": "code",
   "execution_count": 3,
   "metadata": {
    "collapsed": false
   },
   "outputs": [
    {
     "name": "stdout",
     "output_type": "stream",
     "text": [
      "Help on class Algo in module essentia.standard:\n",
      "\n",
      "class Algo(Algorithm)\n",
      " |  MonoLoader\n",
      " |  \n",
      " |  \n",
      " |  Outputs:\n",
      " |  \n",
      " |    [vector_real] audio - the audio signal\n",
      " |  \n",
      " |  \n",
      " |  Parameters:\n",
      " |  \n",
      " |    downmix:\n",
      " |      string ∈ {left,right,mix} (default = \"mix\")\n",
      " |      the mixing type for stereo files\n",
      " |  \n",
      " |    filename:\n",
      " |      string\n",
      " |      the name of the file from which to read\n",
      " |  \n",
      " |    sampleRate:\n",
      " |      real ∈ (0,inf) (default = 44100)\n",
      " |      the desired output sampling rate [Hz]\n",
      " |  \n",
      " |  \n",
      " |  Description:\n",
      " |  \n",
      " |    Given an audio file this algorithm outputs the raw audio data downmixed to\n",
      " |    mono. Audio is resampled in case the given sampling rate does not match the\n",
      " |    sampling rate of the input signal.\n",
      " |    \n",
      " |    This algorithm uses AudioLoader and thus inherits all of its input\n",
      " |    requirements and exceptions.\n",
      " |  \n",
      " |  Method resolution order:\n",
      " |      Algo\n",
      " |      Algorithm\n",
      " |      __builtin__.object\n",
      " |  \n",
      " |  Methods defined here:\n",
      " |  \n",
      " |  __call__(self, *args)\n",
      " |  \n",
      " |  __init__(self, **kwargs)\n",
      " |  \n",
      " |  __str__(self)\n",
      " |  \n",
      " |  compute(self, *args)\n",
      " |  \n",
      " |  configure(self, **kwargs)\n",
      " |  \n",
      " |  ----------------------------------------------------------------------\n",
      " |  Data descriptors defined here:\n",
      " |  \n",
      " |  __dict__\n",
      " |      dictionary for instance variables (if defined)\n",
      " |  \n",
      " |  __weakref__\n",
      " |      list of weak references to the object (if defined)\n",
      " |  \n",
      " |  ----------------------------------------------------------------------\n",
      " |  Data and other attributes defined here:\n",
      " |  \n",
      " |  __struct__ = {'description': 'Given an audio file this algorithm outpu...\n",
      " |  \n",
      " |  ----------------------------------------------------------------------\n",
      " |  Methods inherited from Algorithm:\n",
      " |  \n",
      " |  __compute__(...)\n",
      " |      compute the algorithm\n",
      " |  \n",
      " |  __configure__(...)\n",
      " |      Configure the algorithm\n",
      " |  \n",
      " |  getDoc(...)\n",
      " |      Returns the doc string for the algorithm\n",
      " |  \n",
      " |  getStruct(...)\n",
      " |      Returns the doc struct for the algorithm\n",
      " |  \n",
      " |  inputNames(...)\n",
      " |      Returns the names of the inputs of the algorithm.\n",
      " |  \n",
      " |  inputType(...)\n",
      " |      Returns the type of the input given by its name\n",
      " |  \n",
      " |  name(...)\n",
      " |      Returns the name of the algorithm.\n",
      " |  \n",
      " |  outputNames(...)\n",
      " |      Returns the names of the outputs of the algorithm.\n",
      " |  \n",
      " |  paramType(...)\n",
      " |      Returns the type of the parameter given by its name\n",
      " |  \n",
      " |  paramValue(...)\n",
      " |      Returns the value of the parameter or None if not yet configured\n",
      " |  \n",
      " |  parameterNames(...)\n",
      " |      Returns the names of the parameters for this algorithm.\n",
      " |  \n",
      " |  reset(...)\n",
      " |      Reset the algorithm to its initial state (if any).\n",
      " |  \n",
      " |  ----------------------------------------------------------------------\n",
      " |  Data and other attributes inherited from Algorithm:\n",
      " |  \n",
      " |  __new__ = <built-in method __new__ of type object>\n",
      " |      T.__new__(S, ...) -> a new object with type S, a subtype of T\n",
      "\n"
     ]
    }
   ],
   "source": [
    "help(ess.MonoLoader)"
   ]
  },
  {
   "cell_type": "code",
   "execution_count": 4,
   "metadata": {
    "collapsed": false
   },
   "outputs": [],
   "source": [
    "audio = ess.MonoLoader(filename='example.mp3')()"
   ]
  },
  {
   "cell_type": "code",
   "execution_count": 5,
   "metadata": {
    "collapsed": false
   },
   "outputs": [
    {
     "data": {
      "text/plain": [
       "[<matplotlib.lines.Line2D at 0x106cfe550>]"
      ]
     },
     "execution_count": 5,
     "metadata": {},
     "output_type": "execute_result"
    },
    {
     "data": {
      "image/png": "[encoded data removed]",
      "text/plain": [
       "<matplotlib.figure.Figure at 0x107d09850>"
      ]
     },
     "metadata": {},
     "output_type": "display_data"
    }
   ],
   "source": [
    "plt.figure()\n",
    "plt.plot(audio)"
   ]
  },
  {
   "cell_type": "code",
   "execution_count": 6,
   "metadata": {
    "collapsed": false
   },
   "outputs": [
    {
     "name": "stdout",
     "output_type": "stream",
     "text": [
      "Help on class FrameGenerator in module essentia.algorithms:\n",
      "\n",
      "class FrameGenerator(__builtin__.object)\n",
      " |  # FrameGenerator\n",
      " |  \n",
      " |  Methods defined here:\n",
      " |  \n",
      " |  __init__(self, audio, frameSize=1024, hopSize=512, startFromZero=False, validFrameThresholdRatio=0, lastFrameToEndOfFile=False)\n",
      " |  \n",
      " |  __iter__(self)\n",
      " |  \n",
      " |  next(self)\n",
      " |  \n",
      " |  num_frames(self)\n",
      " |  \n",
      " |  ----------------------------------------------------------------------\n",
      " |  Data descriptors defined here:\n",
      " |  \n",
      " |  __dict__\n",
      " |      dictionary for instance variables (if defined)\n",
      " |  \n",
      " |  __weakref__\n",
      " |      list of weak references to the object (if defined)\n",
      " |  \n",
      " |  ----------------------------------------------------------------------\n",
      " |  Data and other attributes defined here:\n",
      " |  \n",
      " |  __struct__ = {'description': 'The FrameGenerator is a special algorith...\n",
      "\n"
     ]
    }
   ],
   "source": [
    "help(ess.FrameGenerator)"
   ]
  },
  {
   "cell_type": "code",
   "execution_count": 7,
   "metadata": {
    "collapsed": false
   },
   "outputs": [
    {
     "name": "stdout",
     "output_type": "stream",
     "text": [
      "Help on class Algo in module essentia.standard:\n",
      "\n",
      "class Algo(Algorithm)\n",
      " |  LoudnessVickers\n",
      " |  \n",
      " |  \n",
      " |  Inputs:\n",
      " |  \n",
      " |    [vector_real] signal - the input signal\n",
      " |  \n",
      " |  \n",
      " |  Outputs:\n",
      " |  \n",
      " |    [real] loudness - the Vickers loudness [dB]\n",
      " |  \n",
      " |  \n",
      " |  Parameters:\n",
      " |  \n",
      " |    sampleRate:\n",
      " |      real ∈ [44100,44100] (default = 44100)\n",
      " |      the audio sampling rate of the input signal which is used to create the\n",
      " |      weight vector [Hz] (currently, this algorithm only works on signals with a\n",
      " |      sampling rate of 44100Hz)\n",
      " |  \n",
      " |  \n",
      " |  Description:\n",
      " |  \n",
      " |    This algorithm computes Vickers's loudness for a given audio signal.\n",
      " |    Currently, this algorithm only works for signals with a 44100Hz sampling\n",
      " |    rate. This algorithm is meant to be given frames of audio as input (not\n",
      " |    entire audio signals). The algorithm described in the paper performs a\n",
      " |    weighted average of the loudness value computed for each of the given frames,\n",
      " |    this step is left as a post processing step and is not performed by this\n",
      " |    algorithm.\n",
      " |    \n",
      " |    References:\n",
      " |      [1] E. Vickers, \"Automatic Long-term Loudness and Dynamics Matching,\" in\n",
      " |      The 111th AES Convention, 2001.\n",
      " |  \n",
      " |  Method resolution order:\n",
      " |      Algo\n",
      " |      Algorithm\n",
      " |      __builtin__.object\n",
      " |  \n",
      " |  Methods defined here:\n",
      " |  \n",
      " |  __call__(self, *args)\n",
      " |  \n",
      " |  __init__(self, **kwargs)\n",
      " |  \n",
      " |  __str__(self)\n",
      " |  \n",
      " |  compute(self, *args)\n",
      " |  \n",
      " |  configure(self, **kwargs)\n",
      " |  \n",
      " |  ----------------------------------------------------------------------\n",
      " |  Data descriptors defined here:\n",
      " |  \n",
      " |  __dict__\n",
      " |      dictionary for instance variables (if defined)\n",
      " |  \n",
      " |  __weakref__\n",
      " |      list of weak references to the object (if defined)\n",
      " |  \n",
      " |  ----------------------------------------------------------------------\n",
      " |  Data and other attributes defined here:\n",
      " |  \n",
      " |  __struct__ = {'description': 'This algorithm computes Vickers\\'s loudn...\n",
      " |  \n",
      " |  ----------------------------------------------------------------------\n",
      " |  Methods inherited from Algorithm:\n",
      " |  \n",
      " |  __compute__(...)\n",
      " |      compute the algorithm\n",
      " |  \n",
      " |  __configure__(...)\n",
      " |      Configure the algorithm\n",
      " |  \n",
      " |  getDoc(...)\n",
      " |      Returns the doc string for the algorithm\n",
      " |  \n",
      " |  getStruct(...)\n",
      " |      Returns the doc struct for the algorithm\n",
      " |  \n",
      " |  inputNames(...)\n",
      " |      Returns the names of the inputs of the algorithm.\n",
      " |  \n",
      " |  inputType(...)\n",
      " |      Returns the type of the input given by its name\n",
      " |  \n",
      " |  name(...)\n",
      " |      Returns the name of the algorithm.\n",
      " |  \n",
      " |  outputNames(...)\n",
      " |      Returns the names of the outputs of the algorithm.\n",
      " |  \n",
      " |  paramType(...)\n",
      " |      Returns the type of the parameter given by its name\n",
      " |  \n",
      " |  paramValue(...)\n",
      " |      Returns the value of the parameter or None if not yet configured\n",
      " |  \n",
      " |  parameterNames(...)\n",
      " |      Returns the names of the parameters for this algorithm.\n",
      " |  \n",
      " |  reset(...)\n",
      " |      Reset the algorithm to its initial state (if any).\n",
      " |  \n",
      " |  ----------------------------------------------------------------------\n",
      " |  Data and other attributes inherited from Algorithm:\n",
      " |  \n",
      " |  __new__ = <built-in method __new__ of type object>\n",
      " |      T.__new__(S, ...) -> a new object with type S, a subtype of T\n",
      "\n"
     ]
    }
   ],
   "source": [
    "help(ess.LoudnessVickers)"
   ]
  },
  {
   "cell_type": "code",
   "execution_count": 15,
   "metadata": {
    "collapsed": false
   },
   "outputs": [
    {
     "data": {
      "text/plain": [
       "[<matplotlib.lines.Line2D at 0x107657750>]"
      ]
     },
     "execution_count": 15,
     "metadata": {},
     "output_type": "execute_result"
    },
    {
     "data": {
      "image/png": "[encoded data removed]",
      "text/plain": [
       "<matplotlib.figure.Figure at 0x1076575d0>"
      ]
     },
     "metadata": {},
     "output_type": "display_data"
    }
   ],
   "source": [
    "vickers = ess.LoudnessVickers()\n",
    "dbValues = []\n",
    "for frame in ess.FrameGenerator(audio, hopSize=1024):\n",
    "    dbValues.append(vickers(frame))\n",
    "    \n",
    "dbValues = np.array(dbValues)\n",
    "scaledValues = ((dbValues + 100) / 100 * 2) - 1\n",
    "\n",
    "plt.figure(figsize=(12, 6))\n",
    "plt.plot(audio)\n",
    "plt.plot(np.arange(len(dbValues))*1024, scaledValues)"
   ]
  }
 ],
 "metadata": {
  "kernelspec": {
   "display_name": "Python 2",
   "language": "python",
   "name": "python2"
  },
  "language_info": {
   "codemirror_mode": {
    "name": "ipython",
    "version": 2
   },
   "file_extension": ".py",
   "mimetype": "text/x-python",
   "name": "python",
   "nbconvert_exporter": "python",
   "pygments_lexer": "ipython2",
   "version": "2.7.8"
  }
 },
 "nbformat": 4,
 "nbformat_minor": 0
}
